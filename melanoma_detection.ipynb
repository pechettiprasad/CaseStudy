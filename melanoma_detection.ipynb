{
 "cells": [
  {
   "cell_type": "code",
   "execution_count": null,
   "id": "b66cf7a7-27e4-487a-a6e2-51a2388c6a46",
   "metadata": {},
   "outputs": [],
   "source": [
    "# Melanoma Detection Using Custom CNN\n",
    "This notebook demonstrates the process of building, training, and evaluating a custom CNN for melanoma detection from images."
   ]
  },
  {
   "cell_type": "code",
   "execution_count": null,
   "id": "dd46dc7e",
   "metadata": {},
   "outputs": [],
   "source": [
    "# Import libraries\n",
    "import tensorflow as tf\n",
    "from tensorflow.keras import layers, models\n",
    "import matplotlib.pyplot as plt\n",
    "import numpy as np\n",
    "import os\n",
    "from sklearn.utils import class_weight\n",
    "from tensorflow.keras.preprocessing.image import ImageDataGenerator"
   ]
  },
  {
   "cell_type": "markdown",
   "id": "96b3ca0e-18da-4f48-995b-de4e6d76fff4",
   "metadata": {},
   "source": [
    "## Load and Preprocess Dataset\n",
    "### Define Paths and Load Dataset"
   ]
  },
  {
   "cell_type": "code",
   "execution_count": null,
   "id": "8d8728ae",
   "metadata": {},
   "outputs": [],
   "source": [
    "# Define dataset paths\n",
    "train_dir = '/CaseStudy/Skin cancer ISIC The International Skin Imaging Collaboration/Train'\n",
    "val_dir = '/CaseStudy/Skin cancer ISIC The International Skin Imaging Collaboration/Test'\n",
    "\n",
    "# Load datasets\n",
    "train_ds = tf.keras.utils.image_dataset_from_directory(train_dir, image_size=(180, 180), batch_size=32)\n",
    "val_ds = tf.keras.utils.image_dataset_from_directory(val_dir, image_size=(180, 180), batch_size=32)"
   ]
  },
  {
   "cell_type": "code",
   "execution_count": null,
   "id": "a816bf76",
   "metadata": {},
   "outputs": [],
   "source": [
    "# Normalize pixel values to [0, 1]\n",
    "normalization_layer = layers.Rescaling(1./255)\n",
    "train_ds = train_ds.map(lambda x, y: (normalization_layer(x), y))\n",
    "val_ds = val_ds.map(lambda x, y: (normalization_layer(x), y))"
   ]
  },
  {
   "cell_type": "code",
   "execution_count": null,
   "id": "1bfc19c7-7753-4270-bb71-5ea9e94ab010",
   "metadata": {},
   "outputs": [],
   "source": [
    "## Visualize Dataset\n",
    "### Display One Image Per Class"
   ]
  },
  {
   "cell_type": "markdown",
   "id": "491bcb3c-9938-4049-8c5f-609ad0f2beb2",
   "metadata": {},
   "source": [
    "# Visualize one image from each class\n",
    "class_names = train_ds.class_names\n",
    "plt.figure(figsize=(10, 10))\n",
    "for images, labels in train_ds.take(1):\n",
    "    for i in range(9):  # Adjust based on the number of classes\n",
    "        ax = plt.subplot(3, 3, i + 1)\n",
    "        plt.imshow(images[i].numpy())\n",
    "        plt.title(class_names[labels[i]])\n",
    "        plt.axis(\"off\")\n",
    "plt.show()"
   ]
  },
  {
   "cell_type": "code",
   "execution_count": null,
   "id": "f189c92e-5c4b-41a3-bf48-b5393cd34092",
   "metadata": {},
   "outputs": [],
   "source": [
    "## Build Baseline Model"
   ]
  },
  {
   "cell_type": "code",
   "execution_count": null,
   "id": "bcfd2ba5",
   "metadata": {},
   "outputs": [],
   "source": [
    "# Define a simple CNN model\n",
    "model = models.Sequential([\n",
    "    layers.Conv2D(32, (3, 3), activation='relu', input_shape=(180, 180, 3)),\n",
    "    layers.MaxPooling2D((2, 2)),\n",
    "    layers.Conv2D(64, (3, 3), activation='relu'),\n",
    "    layers.MaxPooling2D((2, 2)),\n",
    "    layers.Conv2D(128, (3, 3), activation='relu'),\n",
    "    layers.MaxPooling2D((2, 2)),\n",
    "    layers.Flatten(),\n",
    "    layers.Dropout(0.5),\n",
    "    layers.Dense(128, activation='relu'),\n",
    "    layers.Dense(9, activation='softmax')\n",
    "])"
   ]
  },
  {
   "cell_type": "code",
   "execution_count": null,
   "id": "9f62db64-fdfc-47ac-9272-0f987369836d",
   "metadata": {},
   "outputs": [],
   "source": [
    "## Compile and Train the Baseline Model"
   ]
  },
  {
   "cell_type": "code",
   "execution_count": null,
   "id": "0353193c",
   "metadata": {},
   "outputs": [],
   "source": [
    "# Compile the model\n",
    "model.compile(optimizer='adam',\n",
    "              loss='sparse_categorical_crossentropy',\n",
    "              metrics=['accuracy'])\n",
    "\n",
    "# Train the model\n",
    "history = model.fit(train_ds, validation_data=val_ds, epochs=20)"
   ]
  },
  {
   "cell_type": "code",
   "execution_count": null,
   "id": "25ca902c-dff5-4f2d-af11-19f13adff0a8",
   "metadata": {},
   "outputs": [],
   "source": [
    "## Evaluate Baseline Model\n",
    "### Plot Training and Validation Curves"
   ]
  },
  {
   "cell_type": "code",
   "execution_count": null,
   "id": "06030fba",
   "metadata": {},
   "outputs": [],
   "source": [
    "# Plot training and validation curves\n",
    "plt.figure(figsize=(10, 5))\n",
    "plt.plot(history.history['accuracy'], label='Training Accuracy')\n",
    "plt.plot(history.history['val_accuracy'], label='Validation Accuracy')\n",
    "plt.xlabel('Epochs')\n",
    "plt.ylabel('Accuracy')\n",
    "plt.legend()\n",
    "plt.title('Training and Validation Accuracy')\n",
    "plt.show()\n",
    "\n",
    "plt.figure(figsize=(10, 5))\n",
    "plt.plot(history.history['loss'], label='Training Loss')\n",
    "plt.plot(history.history['val_loss'], label='Validation Loss')\n",
    "plt.xlabel('Epochs')\n",
    "plt.ylabel('Loss')\n",
    "plt.legend()\n",
    "plt.title('Training and Validation Loss')\n",
    "plt.show()"
   ]
  },
  {
   "cell_type": "code",
   "execution_count": null,
   "id": "2a51357a-7443-46f2-aa5c-9f1cdd6fed26",
   "metadata": {},
   "outputs": [],
   "source": [
    "## Apply Data Augmentation"
   ]
  },
  {
   "cell_type": "code",
   "execution_count": null,
   "id": "b3d995de",
   "metadata": {},
   "outputs": [],
   "source": [
    "# Add data augmentation layers\n",
    "data_augmentation = tf.keras.Sequential([\n",
    "    layers.RandomFlip(\"horizontal_and_vertical\"),\n",
    "    layers.RandomRotation(0.2),\n",
    "    layers.RandomZoom(0.2)\n",
    "])\n",
    "\n",
    "# Apply data augmentation to training dataset\n",
    "augmented_train_ds = train_ds.map(lambda x, y: (data_augmentation(x, training=True), y))"
   ]
  },
  {
   "cell_type": "code",
   "execution_count": null,
   "id": "518c852a-3cd8-4704-a56c-e1419dc85131",
   "metadata": {},
   "outputs": [],
   "source": [
    "## Re-train Model with Augmented Data"
   ]
  },
  {
   "cell_type": "code",
   "execution_count": null,
   "id": "6a85034c",
   "metadata": {},
   "outputs": [],
   "source": [
    "# Re-compile and train the model\n",
    "history_augmented = model.fit(augmented_train_ds, validation_data=val_ds, epochs=20)"
   ]
  },
  {
   "cell_type": "code",
   "execution_count": null,
   "id": "ba648419-eb1c-4c65-92ff-7ecd5e9a1875",
   "metadata": {},
   "outputs": [],
   "source": [
    "## Analyze Class Distribution and Handle Imbalances"
   ]
  },
  {
   "cell_type": "code",
   "execution_count": null,
   "id": "144bd0b5",
   "metadata": {},
   "outputs": [],
   "source": [
    "# Analyze class distribution\n",
    "class_counts = {class_name: 0 for class_name in class_names}\n",
    "for _, labels in train_ds.unbatch():\n",
    "    for label in labels.numpy():\n",
    "        class_counts[class_names[label]] += 1\n",
    "\n",
    "# Plot class distribution\n",
    "plt.figure(figsize=(10, 5))\n",
    "plt.bar(class_counts.keys(), class_counts.values())\n",
    "plt.title('Class Distribution')\n",
    "plt.xlabel('Classes')\n",
    "plt.ylabel('Number of Samples')\n",
    "plt.xticks(rotation=45)\n",
    "plt.show()"
   ]
  },
  {
   "cell_type": "code",
   "execution_count": null,
   "id": "998104cd-33d6-4eef-a1a4-c880c745c090",
   "metadata": {},
   "outputs": [],
   "source": [
    "## Re-train Model with Balanced Data"
   ]
  },
  {
   "cell_type": "code",
   "execution_count": null,
   "id": "8e30291c",
   "metadata": {},
   "outputs": [],
   "source": [
    "# Use Augmentor to balance classes (pseudo-code for now)\n",
    "# Augment images for underrepresented classes\n",
    " balanced_train_ds = augmentor_balance_classes(train_dir)\n",
    "\n",
    "# Train the model on balanced data\n",
    " history_balanced = model.fit(balanced_train_ds, validation_data=val_ds, epochs=30)"
   ]
  },
  {
   "cell_type": "code",
   "execution_count": null,
   "id": "31aab52d-ea95-4fe8-aff0-f4c402527b6e",
   "metadata": {},
   "outputs": [],
   "source": [
    "## Compare Results and Final Analysis"
   ]
  },
  {
   "cell_type": "code",
   "execution_count": null,
   "id": "3dac9136",
   "metadata": {},
   "outputs": [],
   "source": [
    "# Compare results for baseline, augmented, and balanced models\n",
    "# Example: Print accuracy for each model\n",
    " print(\"Baseline Accuracy:\", history.history['val_accuracy'][-1])\n",
    " print(\"Augmented Accuracy:\", history_augmented.history['val_accuracy'][-1])\n",
    " print(\"Balanced Accuracy:\", history_balanced.history['val_accuracy'][-1])"
   ]
  }
 ],
 "metadata": {
  "kernelspec": {
   "display_name": "Python 3 (ipykernel)",
   "language": "python",
   "name": "python3"
  },
  "language_info": {
   "codemirror_mode": {
    "name": "ipython",
    "version": 3
   },
   "file_extension": ".py",
   "mimetype": "text/x-python",
   "name": "python",
   "nbconvert_exporter": "python",
   "pygments_lexer": "ipython3",
   "version": "3.11.7"
  }
 },
 "nbformat": 4,
 "nbformat_minor": 5
}
